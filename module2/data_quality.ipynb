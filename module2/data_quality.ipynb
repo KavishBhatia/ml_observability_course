{
 "cells": [
  {
   "cell_type": "markdown",
   "id": "500a7c8f-bc0e-4d53-afa7-97a80f4fd815",
   "metadata": {},
   "source": [
    "# Data Quality: Code Practice"
   ]
  },
  {
   "cell_type": "code",
   "execution_count": null,
   "id": "ebd25858-4ad0-4e64-b9e7-4c853faa67e4",
   "metadata": {},
   "outputs": [],
   "source": [
    "import pandas as pd\n",
    "import numpy as np\n",
    "\n",
    "from sklearn import datasets\n",
    "from sklearn import ensemble\n",
    "\n",
    "from evidently import ColumnMapping\n",
    "from evidently.report import Report\n",
    "from evidently.metric_preset import DataQualityPreset\n",
    "from evidently.metrics import *\n",
    "from evidently.test_suite import TestSuite\n",
    "from evidently.test_preset import DataQualityTestPreset, DataStabilityTestPreset\n",
    "from evidently.tests import *"
   ]
  },
  {
   "cell_type": "code",
   "execution_count": null,
   "id": "014c8092-4127-4658-aae5-1e7920789b0e",
   "metadata": {},
   "outputs": [],
   "source": [
    "#Dataset for Data Quality and Integrity\n",
    "adult_data = datasets.fetch_openml(name='adult', version=2, as_frame='auto')\n",
    "adult = adult_data.frame\n",
    "\n",
    "adult_ref = adult[~adult.education.isin(['Some-college', 'HS-grad', 'Bachelors'])]\n",
    "adult_cur = adult[adult.education.isin(['Some-college', 'HS-grad', 'Bachelors'])]\n",
    "\n",
    "adult_cur.iloc[:2000, 3:5] = np.nan"
   ]
  },
  {
   "cell_type": "markdown",
   "id": "3b91cdd5-6fea-4298-9c74-0b6d64293f4d",
   "metadata": {},
   "source": [
    "## Data Quality Test Suite"
   ]
  },
  {
   "cell_type": "code",
   "execution_count": null,
   "id": "532e9636-707a-471e-ac83-7506bce3a508",
   "metadata": {},
   "outputs": [],
   "source": [
    "data_quality = TestSuite(tests=[\n",
    "    DataQualityTestPreset(),\n",
    "])\n",
    "\n",
    "data_quality.run(reference_data=adult_ref, current_data=adult_cur)\n",
    "data_quality.show(mode='inline')"
   ]
  },
  {
   "cell_type": "code",
   "execution_count": null,
   "id": "44d758d2-d45e-4b79-a583-bb1b4a44e13c",
   "metadata": {},
   "outputs": [],
   "source": [
    "#column-level tests\n",
    "data_quality_column_tests = TestSuite(tests=[\n",
    "    TestColumnValueMean(column_name='education-num'),\n",
    "    TestColumnValueMedian(column_name='education-num'),\n",
    "    TestNumberOfUniqueValues(column_name='education'),\n",
    "    TestMostCommonValueShare(column_name='education'),\n",
    "    TestValueRange(column_name='education-num'),\n",
    "    TestShareOfOutRangeValues(column_name='education-num'),\n",
    "    TestNumberOfOutListValues(column_name='education'),\n",
    "    TestColumnQuantile(column_name='education-num', quantile=0.25),\n",
    "    TestColumnShareOfMissingValues(column_name='education'),\n",
    "    TestColumnRegExp(column_name='education',reg_exp='^[0..9]'),\n",
    "    TestCategoryShare(column_name='education', category='Some-college', lt=0.5),\n",
    "])\n",
    "\n",
    "data_quality_column_tests.run(reference_data=adult_ref, current_data=adult_cur)\n",
    "data_quality_column_tests.show(mode='inline')"
   ]
  },
  {
   "cell_type": "markdown",
   "id": "8d4790fd-96f4-4c05-8913-e6bb3d0faadd",
   "metadata": {},
   "source": [
    "## Data Quality Report"
   ]
  },
  {
   "cell_type": "code",
   "execution_count": null,
   "id": "2e5db02d-2dd2-4842-bd64-a9b32a647d15",
   "metadata": {
    "scrolled": true
   },
   "outputs": [],
   "source": [
    "data_quality_report = Report(metrics=[\n",
    "    DataQualityPreset(),\n",
    "])\n",
    "\n",
    "data_quality_report.run(reference_data=adult_ref, current_data=adult_cur)\n",
    "data_quality_report.show(mode='inline')"
   ]
  },
  {
   "cell_type": "code",
   "execution_count": null,
   "id": "840ce1ad-1cf8-4054-b93e-5df0e1721e68",
   "metadata": {
    "scrolled": true
   },
   "outputs": [],
   "source": [
    "#dataset-level metrics\n",
    "data_quality_dataset_report = Report(metrics=[\n",
    "    DatasetSummaryMetric(),\n",
    "    DatasetMissingValuesMetric(),\n",
    "    DatasetCorrelationsMetric(),\n",
    "    \n",
    "])\n",
    "\n",
    "data_quality_dataset_report.run(reference_data=adult_ref, current_data=adult_cur)\n",
    "data_quality_dataset_report.show(mode='inline')"
   ]
  },
  {
   "cell_type": "code",
   "execution_count": null,
   "id": "57d46cd0-4cd7-4c66-89c4-f756e6d4461b",
   "metadata": {
    "scrolled": true
   },
   "outputs": [],
   "source": [
    "data_quality_column_report = Report(metrics=[\n",
    "    ColumnDistributionMetric(column_name=\"education\"), \n",
    "    ColumnQuantileMetric(column_name=\"education-num\", quantile=0.75), \n",
    "    ColumnCorrelationsMetric(column_name=\"education\"),\n",
    "    ColumnValueListMetric(column_name=\"relationship\", values=[\"Husband\", \"Unmarried\"]), \n",
    "    ColumnValueRangeMetric(column_name=\"age\", left=10, right=20),\n",
    "    ColumnCategoryMetric(column_name='education', category='Some-college'),\n",
    "    ColumnRegExpMetric(column_name=\"relationship\", reg_exp=r\".*child.*\"),\n",
    "    ColumnSummaryMetric(column_name=\"age\"),\n",
    "    ColumnMissingValuesMetric(column_name=\"education\"),    \n",
    "])\n",
    "\n",
    "data_quality_column_report.run(reference_data=adult_ref, current_data=adult_cur)\n",
    "data_quality_column_report.show(mode='inline')"
   ]
  }
 ],
 "metadata": {
  "kernelspec": {
   "display_name": "Python 3 (ipykernel)",
   "language": "python",
   "name": "python3"
  },
  "language_info": {
   "codemirror_mode": {
    "name": "ipython",
    "version": 3
   },
   "file_extension": ".py",
   "mimetype": "text/x-python",
   "name": "python",
   "nbconvert_exporter": "python",
   "pygments_lexer": "ipython3",
   "version": "3.11.4"
  }
 },
 "nbformat": 4,
 "nbformat_minor": 5
}
