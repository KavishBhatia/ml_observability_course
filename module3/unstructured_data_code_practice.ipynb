{
 "cells": [
  {
   "cell_type": "markdown",
   "id": "09fad691-313a-4d40-906f-cc4f48afc8fa",
   "metadata": {},
   "source": [
    "# Monitoring unstructured data: Code Practice"
   ]
  },
  {
   "cell_type": "code",
   "execution_count": null,
   "id": "3fb82717-7fc0-4818-b3a7-df6e6bc18396",
   "metadata": {},
   "outputs": [],
   "source": [
    "import pandas as pd\n",
    "import numpy as np\n",
    "\n",
    "from sklearn import datasets, ensemble, model_selection\n",
    "\n",
    "from evidently import ColumnMapping\n",
    "from evidently.report import Report\n",
    "\n",
    "from evidently.metric_preset import TextOverviewPreset\n",
    "\n",
    "from evidently.metrics import ColumnSummaryMetric\n",
    "from evidently.metrics import ColumnCorrelationsMetric\n",
    "from evidently.metrics import ColumnDistributionMetric\n",
    "from evidently.metrics import ColumnDriftMetric\n",
    "from evidently.metrics import ColumnValueRangeMetric\n",
    "from evidently.metrics import DatasetCorrelationsMetric\n",
    "from evidently.metrics import DatasetDriftMetric\n",
    "from evidently.metrics import DataDriftTable\n",
    "from evidently.metrics import EmbeddingsDriftMetric\n",
    "\n",
    "from evidently.metrics.data_drift.embedding_drift_methods import model, distance, ratio, mmd\n",
    "\n",
    "from evidently.descriptors import TextLength, TriggerWordsPresence, OOV, NonLetterCharacterPercentage\n",
    "from evidently.descriptors import SentenceCount, WordCount, Sentiment, RegExp"
   ]
  },
  {
   "cell_type": "code",
   "execution_count": null,
   "id": "cc0ba349-2825-44e7-888a-56a2c93326a8",
   "metadata": {},
   "outputs": [],
   "source": [
    "import nltk\n",
    "nltk.download('words')\n",
    "nltk.download('wordnet')\n",
    "nltk.download('omw-1.4')\n",
    "nltk.download('vader_lexicon')"
   ]
  },
  {
   "cell_type": "markdown",
   "id": "da9511d4-478c-4eb0-b0da-458f769a5b73",
   "metadata": {},
   "source": [
    "## Multimodal data with raw text"
   ]
  },
  {
   "cell_type": "code",
   "execution_count": null,
   "id": "4e6d90f4-b275-4f03-848b-cc554c13c0a4",
   "metadata": {},
   "outputs": [],
   "source": [
    "reviews_data = datasets.fetch_openml(name='Womens-E-Commerce-Clothing-Reviews', version=2, as_frame='auto')\n",
    "reviews = reviews_data.frame"
   ]
  },
  {
   "cell_type": "code",
   "execution_count": null,
   "id": "e643a529-afe6-4644-9e4e-92b9f7f6c6d6",
   "metadata": {},
   "outputs": [],
   "source": [
    "reviews['prediction'] = reviews['Rating']\n",
    "reviews_ref = reviews[reviews.Rating > 3].sample(n=5000, replace=True, ignore_index=True, random_state=42)\n",
    "reviews_cur = reviews[reviews.Rating < 3].sample(n=5000, replace=True, ignore_index=True, random_state=42)"
   ]
  },
  {
   "cell_type": "code",
   "execution_count": null,
   "id": "e445b6bf-e400-46aa-8757-7892faff7a9d",
   "metadata": {},
   "outputs": [],
   "source": [
    "column_mapping = ColumnMapping(\n",
    "    numerical_features=['Age', 'Positive_Feedback_Count'],\n",
    "    categorical_features=['Division_Name', 'Department_Name', 'Class_Name'],\n",
    "    text_features=['Review_Text', 'Title']\n",
    ")"
   ]
  },
  {
   "cell_type": "markdown",
   "id": "9d7750ae-92c6-4861-88e2-c3b7b7348ec8",
   "metadata": {},
   "source": [
    "## Text data overview"
   ]
  },
  {
   "cell_type": "code",
   "execution_count": null,
   "id": "97e06635-49ce-4483-80c6-312ac565be88",
   "metadata": {},
   "outputs": [],
   "source": [
    "#NO descriptors\n",
    "\n",
    "text_overview_report = Report(metrics=[\n",
    "    TextOverviewPreset(column_name=\"Review_Text\")\n",
    "])\n",
    "\n",
    "text_overview_report.run(reference_data=reviews_ref, current_data=reviews_cur, column_mapping=column_mapping)\n",
    "text_overview_report.show(mode='inline')"
   ]
  },
  {
   "cell_type": "code",
   "execution_count": null,
   "id": "4a55b459-83ff-4fe3-8fa1-09d1371d94a5",
   "metadata": {},
   "outputs": [],
   "source": [
    "#WITH descriptors\n",
    "text_overview_report = Report(metrics=[\n",
    "    TextOverviewPreset(column_name=\"Review_Text\", descriptors={\n",
    "        \"Review Text OOV\" : OOV(),\n",
    "        \"Review Text Non Letter %\" : NonLetterCharacterPercentage(),\n",
    "        \"Review Text Length\" : TextLength(),\n",
    "        \"Reviews about Dress\" : TriggerWordsPresence(words_list=['dress', 'gown']),\n",
    "        \"Review about Blouses\" : TriggerWordsPresence(words_list=['blouse', 'shirt']),\n",
    "        \"Review Sentence Count\" : SentenceCount(),\n",
    "        \"Review Word Count\" : WordCount(),\n",
    "        \"Review Sentiment\" : Sentiment(),\n",
    "        \"Review questions\": RegExp(reg_exp=r'.*\\?.*'),\n",
    "    })\n",
    "])\n",
    "\n",
    "text_overview_report.run(reference_data=reviews_ref, current_data=reviews_cur, column_mapping=column_mapping)\n",
    "text_overview_report.show(mode='inline')"
   ]
  },
  {
   "cell_type": "markdown",
   "id": "87fba778-0c20-476b-860f-1b8d2d7191a6",
   "metadata": {},
   "source": [
    "## Text data drift with descriptors"
   ]
  },
  {
   "cell_type": "code",
   "execution_count": null,
   "id": "253bcd87-52cf-4ad0-801c-09df17ea2d45",
   "metadata": {},
   "outputs": [],
   "source": [
    "table_column_metrics_report = Report(metrics=[\n",
    "    DatasetDriftMetric(columns=[\"Age\", \"Review_Text\"]),\n",
    "    DataDriftTable(columns=[\"Age\", \"Review_Text\"]),\n",
    "\n",
    "])\n",
    "\n",
    "table_column_metrics_report.run(reference_data=reviews_ref, current_data=reviews_cur, column_mapping=column_mapping)\n",
    "table_column_metrics_report.show(mode='inline')"
   ]
  },
  {
   "cell_type": "code",
   "execution_count": null,
   "id": "85863c37-ba93-47d5-933f-c55eecb1fd91",
   "metadata": {},
   "outputs": [],
   "source": [
    "table_column_metrics_report = Report(metrics=[\n",
    "    ColumnSummaryMetric(column_name = RegExp(reg_exp=r'.*\\?.*', display_name=\"Questions\").for_column(\"Review_Text\")),\n",
    "    ColumnDriftMetric(column_name = SentenceCount(display_name=\"SentenceCount\").for_column(\"Review_Text\")),\n",
    "    ColumnCorrelationsMetric(column_name = WordCount(display_name=\"WordCount\").for_column(\"Review_Text\")),\n",
    "    ColumnDistributionMetric(column_name = Sentiment(display_name=\"Sentiment\").for_column(\"Review_Text\")),\n",
    "    ColumnValueRangeMetric(column_name = TextLength(display_name=\"TextLength\").for_column(\"Review_Text\"), left=0, right=20)\n",
    "])\n",
    "\n",
    "table_column_metrics_report.run(reference_data=reviews_ref, current_data=reviews_cur, column_mapping=column_mapping)\n",
    "table_column_metrics_report.show(mode='inline')"
   ]
  },
  {
   "cell_type": "markdown",
   "id": "f28fa117-784d-4849-ba53-46316594747d",
   "metadata": {},
   "source": [
    "## Embedding Drift Detection"
   ]
  },
  {
   "cell_type": "code",
   "execution_count": null,
   "id": "16a31ef7-6467-4896-8c77-49ca98330fd7",
   "metadata": {},
   "outputs": [],
   "source": [
    "\n",
    "embeddings_data = datasets.fetch_lfw_people()\n",
    "embeddings_data = pd.DataFrame(embeddings_data['data'])\n",
    "embeddings_data.columns = ['col_' + str(x) for x in embeddings_data.columns]\n",
    "\n",
    "embeddings_data = embeddings_data.iloc[:5100, :31]\n",
    "\n",
    "embeddings_data_shifted = embeddings_data.copy()\n",
    "embeddings_data_shifted.iloc[2500:5000, :5] = 0"
   ]
  },
  {
   "cell_type": "code",
   "execution_count": null,
   "id": "d61dd6d0-a359-4add-9256-64982c878313",
   "metadata": {},
   "outputs": [],
   "source": [
    "column_mapping = ColumnMapping(\n",
    "    embeddings={'small_subset': embeddings_data.columns[:10], 'big_subset': embeddings_data.columns[10:29]},\n",
    "    target=embeddings_data.columns[30]\n",
    ")\n"
   ]
  },
  {
   "cell_type": "code",
   "execution_count": null,
   "id": "eb1b29ca-53f2-428d-b99f-084255b14133",
   "metadata": {},
   "outputs": [],
   "source": [
    "report = Report(metrics=[\n",
    "    EmbeddingsDriftMetric('small_subset')\n",
    "])\n",
    "\n",
    "report.run(reference_data = embeddings_data[:2500], current_data = embeddings_data[2500:5000], \n",
    "           column_mapping = column_mapping)\n",
    "report.show(mode='inline')"
   ]
  },
  {
   "cell_type": "code",
   "execution_count": null,
   "id": "dfaa2131-169f-4067-95cf-2ff78854f9dd",
   "metadata": {},
   "outputs": [],
   "source": [
    "report = Report(metrics = [\n",
    "    EmbeddingsDriftMetric('small_subset', \n",
    "                          drift_method = ratio(\n",
    "                              component_stattest = 'wasserstein',\n",
    "                              component_stattest_threshold = 0.1,\n",
    "                              threshold = 0.2,\n",
    "                              pca_components = None,\n",
    "                          )\n",
    "                         )\n",
    "])\n",
    "\n",
    "report.run(reference_data = embeddings_data_shifted[:2500], current_data = embeddings_data_shifted[2500:5000],  \n",
    "           column_mapping = column_mapping)\n",
    "report.show(mode='inline')"
   ]
  }
 ],
 "metadata": {
  "kernelspec": {
   "display_name": "Python 3 (ipykernel)",
   "language": "python",
   "name": "python3"
  },
  "language_info": {
   "codemirror_mode": {
    "name": "ipython",
    "version": 3
   },
   "file_extension": ".py",
   "mimetype": "text/x-python",
   "name": "python",
   "nbconvert_exporter": "python",
   "pygments_lexer": "ipython3",
   "version": "3.11.4"
  }
 },
 "nbformat": 4,
 "nbformat_minor": 5
}
